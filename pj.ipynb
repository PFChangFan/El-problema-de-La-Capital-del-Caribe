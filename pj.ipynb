{
 "cells": [
  {
   "cell_type": "markdown",
   "metadata": {},
   "source": [
    "\"EL problema de La Capital del Caribe\""
   ]
  },
  {
   "cell_type": "markdown",
   "metadata": {},
   "source": [
    "Santiago de Cuba es una ciudad llena de historia y tradición, con una rica mezcla de culturas y influencias que se reflejan en su arquitectura y su música. \n",
    "Santiago, también conocido como La Capital del Caribe ha sido testigo de numerosas olas de migración, tanto internas como externas. Muchas personas han dejado la ciudad en busca de oportunidades laborales o educativas en otras partes del país o incluso en el extranjero. Mi padrastro me contó que su familia se mudó a La Habana en busca de una vida mejor, ya que en Santiago de Cuba las oportunidades eran limitadas. Me explicó que la migración es un fenómeno común en la historia de la humanidad, ya que las personas siempre han buscado mejorar sus condiciones de vida y encontrar nuevas oportunidades. Me llamó la atención, por lo que decidí tomar este tema para investigar un poco más a profundidad sobre el por qué los santiagueros migran a otros lugares."
   ]
  },
  {
   "cell_type": "markdown",
   "metadata": {},
   "source": [
    "Para empezar vamos a tomar como iniciativa la población del país en general y después la de la provincia a través del tiempo:"
   ]
  },
  {
   "cell_type": "code",
   "execution_count": null,
   "metadata": {},
   "outputs": [],
   "source": [
    "import pandas as pd\n",
    "import matplotlib.pyplot as plt\n",
    "\n",
    "df = pd.read_excel(\"Poblacion total.xlsx\")\n",
    "\n",
    "plt.bar(df['Columna_X'], df['Columna_Y'])\n",
    "plt.xlabel('Etiqueta en el eje X')\n",
    "plt.ylabel('Etiqueta en el eje Y')\n",
    "plt.title('Gráfica de barras')\n",
    "\n",
    "plt.show()"
   ]
  },
  {
   "cell_type": "markdown",
   "metadata": {},
   "source": [
    "Población de Cuba distribuido por edaad y sexo en el 2022:"
   ]
  },
  {
   "cell_type": "code",
   "execution_count": null,
   "metadata": {},
   "outputs": [],
   "source": [
    "import pandas as pd\n",
    "import matplotlib.pyplot as plt\n",
    "\n",
    "archivo_excel = \"Poblacion por edad y sexo.xlsx\"\n",
    "datos = pd.read_excel(archivo_excel)\n",
    "\n",
    "fig, ax = plt.subplots()\n",
    "\n",
    "bar_width = 0.4\n",
    "bar_positions_hombres = range(len(datos))\n",
    "bar_positions_mujeres = [pos + bar_width for pos in bar_positions_hombres]\n",
    "\n",
    "plt.barh(bar_positions_hombres, datos['Hombres'], height=bar_width, color='blue', label='Hombres')\n",
    "plt.barh(bar_positions_mujeres, datos['Mujeres'], height=bar_width, color='pink', label='Mujeres')\n",
    "\n",
    "plt.xlabel('Población')\n",
    "plt.ylabel('Edades')\n",
    "plt.yticks(bar_positions_mujeres, datos['Edades'])\n",
    "plt.legend()\n",
    "\n",
    "plt.show()"
   ]
  },
  {
   "cell_type": "markdown",
   "metadata": {},
   "source": [
    "Ahora la de Santiago de Cuba:"
   ]
  },
  {
   "cell_type": "code",
   "execution_count": null,
   "metadata": {},
   "outputs": [],
   "source": [
    "import pandas as pd\n",
    "import matplotlib.pyplot as plt\n",
    "\n",
    "df = pd.read_excel(\"Población total de Santiago de Cuba.xlsx\")\n",
    "\n",
    "plt.bar(df['Columna_X'], df['Columna_Y'])\n",
    "plt.xlabel('Etiqueta en el eje X')\n",
    "plt.ylabel('Etiqueta en el eje Y')\n",
    "plt.title('Gráfica de barras')\n",
    "\n",
    "plt.show()"
   ]
  },
  {
   "cell_type": "code",
   "execution_count": null,
   "metadata": {},
   "outputs": [],
   "source": [
    "import pandas as pd\n",
    "import matplotlib.pyplot as plt\n",
    "\n",
    "archivo_excel = \"Población de Santiago de Cuba por edad y sexo.xlsx\"\n",
    "datos = pd.read_excel(archivo_excel)\n",
    "\n",
    "fig, ax = plt.subplots()\n",
    "\n",
    "bar_width = 0.4\n",
    "bar_positions_hombres = range(len(datos))\n",
    "bar_positions_mujeres = [pos + bar_width for pos in bar_positions_hombres]\n",
    "\n",
    "plt.barh(bar_positions_hombres, datos['Hombres'], height=bar_width, color='blue', label='Hombres')\n",
    "plt.barh(bar_positions_mujeres, datos['Mujeres'], height=bar_width, color='pink', label='Mujeres')\n",
    "\n",
    "plt.xlabel('Población')\n",
    "plt.ylabel('Edades')\n",
    "plt.yticks(bar_positions_mujeres, datos['Edades'])\n",
    "plt.legend()\n",
    "\n",
    "plt.show()"
   ]
  },
  {
   "cell_type": "markdown",
   "metadata": {},
   "source": [
    "Si se dan cuenta, la población de Cuba y Santiago de Cuba ha ido descendiendo a través del tiempo, pero, qué tanto a disminuido la población?\n",
    "Ahora vamos a ver el saldo migratorio."
   ]
  },
  {
   "cell_type": "code",
   "execution_count": null,
   "metadata": {},
   "outputs": [],
   "source": [
    "import pandas as pd\n",
    "import matplotlib.pyplot as plt\n",
    "\n",
    "df = pd.read_excel(\"Saldo Migratorio.xlsx\")\n",
    "\n",
    "plt.bar(df['Columna_X'], df['Columna_Y'])\n",
    "plt.xlabel('Etiqueta en el eje X')\n",
    "plt.ylabel('Etiqueta en el eje Y')\n",
    "plt.title('Gráfica de barras')\n",
    "\n",
    "plt.show()"
   ]
  },
  {
   "cell_type": "markdown",
   "metadata": {},
   "source": [
    "Como ven, el saldo migratorio es de gran proporción (Aun Santiago teniendo una población de 1 039 118 habitantes), cada año este saldo migratorio va a seguir bajando, esto se debe a muchos motivos internos de la provincia."
   ]
  },
  {
   "cell_type": "markdown",
   "metadata": {},
   "source": [
    "Uno de los problemas que tiene Santiago es "
   ]
  },
  {
   "cell_type": "code",
   "execution_count": null,
   "metadata": {},
   "outputs": [],
   "source": []
  }
 ],
 "metadata": {
  "kernelspec": {
   "display_name": "Python 3",
   "language": "python",
   "name": "python3"
  },
  "language_info": {
   "codemirror_mode": {
    "name": "ipython",
    "version": 3
   },
   "file_extension": ".py",
   "mimetype": "text/x-python",
   "name": "python",
   "nbconvert_exporter": "python",
   "pygments_lexer": "ipython3",
   "version": "3.11.5"
  }
 },
 "nbformat": 4,
 "nbformat_minor": 2
}
